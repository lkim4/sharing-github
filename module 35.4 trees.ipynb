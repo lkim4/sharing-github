{
 "cells": [
  {
   "cell_type": "code",
   "execution_count": 21,
   "metadata": {},
   "outputs": [],
   "source": [
    "class Queue(object):\n",
    "    def __init__(self):\n",
    "        self.item=[]\n",
    "        \n",
    "    def enqueue(self, item):\n",
    "        self.item.insert(0, item)\n",
    "        \n",
    "    def dequeue(self):\n",
    "        if not self.is_empty():\n",
    "            return self.item.pop()\n",
    "        \n",
    "    def is_empty(self):\n",
    "        return len(self.item)==0\n",
    "    \n",
    "    def peek(self):\n",
    "        if not self.is_empty():\n",
    "            return self.item[-1].value\n",
    "        \n",
    "    def __len__(self):\n",
    "        return self.size()\n",
    "    \n",
    "    def size(self):\n",
    "        return len(self.item)\n",
    "\n",
    "\n",
    "class Node(object):\n",
    "    def __init__(self,value):\n",
    "        self.value = value\n",
    "        self.left = None\n",
    "        self.right = None \n",
    "        \n",
    "class BinaryTree(object):\n",
    "    def __init__(self, root):\n",
    "        self.root = Node(root)\n",
    "        \n",
    "    def print_tree(self,traversal_type):\n",
    "        if traversal_type == 'levelorder':\n",
    "            return self.levelorder_print(tree.root)\n",
    "\n",
    "\n",
    "\n",
    "    def levelorder_print(self,start):\n",
    "        if start is None:\n",
    "            return\n",
    "        \n",
    "        queue=Queue()\n",
    "        queue.enqueue(start)\n",
    "        traversal=\"\"\n",
    "        \n",
    "        while len(queue) > 0:\n",
    "            traversal += str(queue.peek()) +'-'\n",
    "            node= queue.dequeue()\n",
    "            \n",
    "            if node.left:\n",
    "                queue.enqueue(node.left)\n",
    "            if node.right:\n",
    "                queue.enqueue(node.right)\n",
    "        return traversal\n",
    "    \n",
    "        \n",
    "tree= BinaryTree(1)\n",
    "tree.root.left = Node(2)\n",
    "tree.root.right = Node(3)\n",
    "tree.root.left.left=Node(4)\n",
    "tree.root.left.right=Node(5)\n",
    "tree.root.right.left=Node(6)\n",
    "tree.root.right.right=Node(7)\n",
    "tree.root.left.left.left=Node(8)\n",
    "tree.root.left.left.right=Node(9)\n",
    "tree.root.left.right.left=Node(10)\n",
    "tree.root.left.right.right=Node(11)\n",
    "tree.root.right.left.left=Node(12)\n",
    "tree.root.right.left.right=Node(13)\n",
    "tree.root.right.right.left=Node(14)\n",
    "tree.root.right.right.right=Node(15)"
   ]
  },
  {
   "cell_type": "markdown",
   "metadata": {},
   "source": [
    "level-order traversal: FIFO\n",
    "1. enqueue the root (FI)\n",
    "2. as you dequeue the root, enqueue its two children (left and right) (FO)\n",
    "3. as you dequeue the next in queue, you enqueue its two children\n",
    "\n",
    "(dequeue the first element in queue and enqueue its children); you loop until the queue is empty"
   ]
  },
  {
   "cell_type": "code",
   "execution_count": 22,
   "metadata": {},
   "outputs": [
    {
     "name": "stdout",
     "output_type": "stream",
     "text": [
      "1-2-3-4-5-6-7-8-9-10-11-12-13-14-15-\n"
     ]
    }
   ],
   "source": [
    "print(tree.print_tree(\"levelorder\"))"
   ]
  },
  {
   "cell_type": "code",
   "execution_count": null,
   "metadata": {},
   "outputs": [],
   "source": []
  }
 ],
 "metadata": {
  "kernelspec": {
   "display_name": "Python 3",
   "language": "python",
   "name": "python3"
  },
  "language_info": {
   "codemirror_mode": {
    "name": "ipython",
    "version": 3
   },
   "file_extension": ".py",
   "mimetype": "text/x-python",
   "name": "python",
   "nbconvert_exporter": "python",
   "pygments_lexer": "ipython3",
   "version": "3.7.3"
  }
 },
 "nbformat": 4,
 "nbformat_minor": 2
}
