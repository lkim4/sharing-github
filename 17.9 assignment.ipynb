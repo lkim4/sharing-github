{
 "cells": [
  {
   "cell_type": "code",
   "execution_count": 3,
   "metadata": {},
   "outputs": [],
   "source": [
    "# X= number of way the expected value can occur\n",
    "# n= total number of tosses\n",
    "\n",
    "#X/ (2**n)\n",
    "\n",
    "# assuming everything is kept constant (same coin, coin is fair, same force used to throw the coin, same environment,\n",
    "# etc.): all those things would be part of the model.  "
   ]
  },
  {
   "cell_type": "code",
   "execution_count": 5,
   "metadata": {},
   "outputs": [],
   "source": [
    "#Netflix:\n",
    "#interactions with service (viewing history and ratings provided by the person)\n",
    "\n",
    "#based on other members with similar taste\n",
    "\n",
    "#information about the movies: genre, categories, actors, release year, etc.\n",
    "\n",
    "#customer behavior/environment: the time of day you watch, the devices you are watching Netflix on, and how long you watch.\n",
    "\n",
    "#does not include age or gender\n",
    "\n",
    "#other factors that could be included in the model:\n",
    "#the person's mood can affect the type of movie that he/she decides to watch.  \n",
    "#director of the person's top rated movies.  "
   ]
  },
  {
   "cell_type": "code",
   "execution_count": null,
   "metadata": {},
   "outputs": [],
   "source": []
  }
 ],
 "metadata": {
  "kernelspec": {
   "display_name": "Python 3",
   "language": "python",
   "name": "python3"
  },
  "language_info": {
   "codemirror_mode": {
    "name": "ipython",
    "version": 3
   },
   "file_extension": ".py",
   "mimetype": "text/x-python",
   "name": "python",
   "nbconvert_exporter": "python",
   "pygments_lexer": "ipython3",
   "version": "3.7.1"
  }
 },
 "nbformat": 4,
 "nbformat_minor": 2
}
